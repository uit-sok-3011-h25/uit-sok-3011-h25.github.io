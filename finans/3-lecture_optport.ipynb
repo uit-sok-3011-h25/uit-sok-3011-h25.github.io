{
  "cells": [
    {
      "cell_type": "markdown",
      "metadata": {},
      "source": [
        "# 3 - Matrices, Optimal Portfolios\n",
        "\n",
        "Espen Sirnes  \n",
        "2025-08-10\n",
        "\n",
        "This lecture explores the strategic behavior of an investor in the stock\n",
        "market, particularly under the assumption of risk aversion, as discussed\n",
        "in the previous note on utility theory. Risk lovers generally prefer the\n",
        "most risky assets, while risk-neutral investors opt for assets with the\n",
        "highest returns. In contrast, a risk-averse investor seeks to maximize\n",
        "returns without disproportionately increasing volatility, typically\n",
        "measured as variance.\n",
        "\n",
        "# Matrices\n",
        "\n",
        "To calculate optimal portfolios for any number of assets, a basic\n",
        "understanding of matrix algebra (Cayley 1858) is essential. Matrix\n",
        "algebra simplifies the resolution of several equations simultaneously, a\n",
        "process that becomes increasingly complex with the addition of\n",
        "variables. Using matrix functions in software like Excel and various\n",
        "statistical packages allows us to solve systems of equations efficiently\n",
        "without manually computing each one.\n",
        "\n",
        "Matrices not only streamline the computation but also simplify notation,\n",
        "making the formulation of equations for optimal portfolios more\n",
        "manageable.\n",
        "\n",
        "A matrix is a structured array of numbers arranged in rows and columns,\n",
        "essentially a set of vectors. Here’s an example of a vector:"
      ],
      "id": "0e3e37e1-4ce8-4e54-bc7f-6797341d7866"
    },
    {
      "cell_type": "code",
      "execution_count": 1,
      "metadata": {},
      "outputs": [
        {
          "output_type": "display_data",
          "metadata": {},
          "data": {
            "text/plain": [
              "array([36, 67, 15])"
            ]
          }
        }
      ],
      "source": [
        "import numpy as np\n",
        "np.random.randint(0,100,3)"
      ],
      "id": "3a10c284"
    },
    {
      "cell_type": "markdown",
      "metadata": {},
      "source": [
        "Combining several vectors side-by-side forms a matrix:"
      ],
      "id": "66d317f0-c274-4326-bc72-c99fe0ac5844"
    },
    {
      "cell_type": "code",
      "execution_count": 2,
      "metadata": {},
      "outputs": [
        {
          "output_type": "display_data",
          "metadata": {},
          "data": {
            "text/plain": [
              "array([[15,  3, 82],\n",
              "       [95, 85, 19]])"
            ]
          }
        }
      ],
      "source": [
        "np.random.randint(0,100,(2,3))"
      ],
      "id": "883ae7a0"
    },
    {
      "cell_type": "markdown",
      "metadata": {},
      "source": [
        "This format is sometimes denoted as $\\mathbf{X}_{N \\times K}$ to\n",
        "indicate the number of rows ($N$) and columns ($K$).\n",
        "\n",
        "# Algebra with Matrices\n",
        "\n",
        "Matrix algebra operates under similar principles to ordinary\n",
        "algebra—allowing addition, subtraction, multiplication, and division\n",
        "(through inversion)—but it also requires adherence to specific rules.\n",
        "\n",
        "## Matrix Multiplication\n",
        "\n",
        "The core operation in matrix algebra is matrix multiplication, which\n",
        "combines elements from the rows of the first matrix with the columns of\n",
        "the second. For example, multiplying a $2 \\times 3$ matrix by a\n",
        "$3 \\times 2$ matrix yields:"
      ],
      "id": "28c28c83-1154-4181-a24d-248ab329ee9d"
    },
    {
      "cell_type": "code",
      "execution_count": 3,
      "metadata": {},
      "outputs": [
        {
          "output_type": "stream",
          "name": "stdout",
          "text": [
            "[[1 3 4]\n",
            " [3 0 4]]\n",
            "[[0 0]\n",
            " [3 1]\n",
            " [2 0]]\n",
            "[[17  3]\n",
            " [ 8  0]]"
          ]
        }
      ],
      "source": [
        "X = np.random.randint(0,5,(2,3))\n",
        "Y = np.random.randint(0,5,(3,2))\n",
        "result = X @ Y\n",
        "print(X)\n",
        "print(Y)\n",
        "print(result)"
      ],
      "id": "a9c7985e"
    },
    {
      "cell_type": "markdown",
      "metadata": {},
      "source": [
        "What happens is that we sum the product of the elements in each row of\n",
        "the first matrix and each column of the second. You can for example\n",
        "check that element \\[0,0\\] of the result is the sum of the product of\n",
        "the first row of the first matrix, and the first column of the second.\n",
        "An easy way to remember this is to think of the multiplication of\n",
        "$A \\times B$ is to follow the lines of the letters: ![multiplication\n",
        "rule](attachment:img/multrule.png \"Muliplication rule\")\n",
        "\n",
        "Due to the rules for matrix multiplication, it requires the number of\n",
        "columns in the first matrix to match the number of rows in the second.\n",
        "\n",
        "The matrix multiplication is different from the normal multiplication in\n",
        "Python. Normal multiplicaiton can be done with the normal multiplication\n",
        "operator `*`. It will then multiply each element in X with the\n",
        "corresponding element of Y, and both matrices must be of the same size:"
      ],
      "attachments": {
        "img/multrule.png": {
          "image/png": "[encoded data removed]"
        }
      },
      "id": "c5fdb5d6-a9af-4daf-84e3-2d03c73f6cb3"
    },
    {
      "cell_type": "code",
      "execution_count": 4,
      "metadata": {},
      "outputs": [
        {
          "output_type": "stream",
          "name": "stdout",
          "text": [
            "[[3 1 1]\n",
            " [3 0 3]]\n",
            "[[1 1 0]\n",
            " [0 0 0]]\n",
            "[[3 1 0]\n",
            " [0 0 0]]"
          ]
        }
      ],
      "source": [
        "X = np.random.randint(0,5,(2,3))\n",
        "Y = np.random.randint(0,5,(2,3))\n",
        "result = X*Y\n",
        "print(X)\n",
        "print(Y)\n",
        "print(result)"
      ],
      "id": "f7c045cd"
    },
    {
      "cell_type": "markdown",
      "metadata": {},
      "source": [
        "The reason for using the former method, is that the former is required\n",
        "for solving sets of equations.\n",
        "\n",
        "## Adding and Subtracting Matrices\n",
        "\n",
        "Adding or subtracting matrices is straightforward; simply add or\n",
        "subtract corresponding elements. In Python, the multiplication requires\n",
        "numpy function, but if the matrices are numpy variables, subtraction and\n",
        "addition can be done with the normal operators."
      ],
      "id": "4f346592-e591-4e62-86c7-63a5535104cf"
    },
    {
      "cell_type": "code",
      "execution_count": 5,
      "metadata": {},
      "outputs": [
        {
          "output_type": "stream",
          "name": "stdout",
          "text": [
            "X:\n",
            "[[29 16]\n",
            " [50 52]]\n",
            "Y:\n",
            "[[69 42]\n",
            " [39 63]]\n",
            "X+Y:\n",
            "[[ 98  58]\n",
            " [ 89 115]]"
          ]
        }
      ],
      "source": [
        "import numpy as np\n",
        "\n",
        "X = np.random.randint(0,100,(2,2))\n",
        "Y = np.random.randint(0,100,(2,2))\n",
        "\n",
        "# Addition of matrices\n",
        "print(f\"X:\\n{X}\")\n",
        "print(f\"Y:\\n{Y}\")\n",
        "print(f\"X+Y:\\n{X+Y}\")"
      ],
      "id": "4acee8c9"
    },
    {
      "cell_type": "markdown",
      "metadata": {},
      "source": [
        "## Dividing with a Matrix\n",
        "\n",
        "While direct division isn’t defined in matrix operations, we can achieve\n",
        "a similar result by multiplying by the inverse of a matrix. The inverse\n",
        "of a matrix $\\mathbf{X}$, denoted $\\mathbf{X}^{-1}$, satisfies:\n",
        "\n",
        "<span id=\"eq-matrix_example\">$$\n",
        "\\mathbf{X} \\times \\mathbf{X}^{-1} = \\mathbf{I} =\n",
        "\\begin{pmatrix}\n",
        "1 & 0 & \\cdots & 0 \\\\\n",
        "0 & 1 & \\cdots & 0 \\\\\n",
        "\\vdots & \\vdots & \\ddots & \\vdots \\\\\n",
        "0 & 0 & \\cdots & 1\n",
        "\\end{pmatrix}\n",
        " \\qquad(1)$$</span>\n",
        "\n",
        "where $\\mathbf{I}$ is the identity matrix. Multiplying any matrix by\n",
        "$\\mathbf{I}$ results in the original matrix, akin to multiplying any\n",
        "number by 1.\n",
        "\n",
        "In practice, while the concept is straightforward, the actual\n",
        "calculation of a matrix inverse can become complex for larger matrices\n",
        "and is typically handled by computers. We will not go through the method\n",
        "of obtaining the inverse in this course, we will in stead just utilize\n",
        "the numpy funciton for calculating the inverse. Specifically, we use\n",
        "`np.linalg.inv(X)`. We can check that it actually complies with the\n",
        "definition like this:"
      ],
      "id": "99b1b10e-aa29-404a-a39e-4e4f37a44785"
    },
    {
      "cell_type": "code",
      "execution_count": 6,
      "metadata": {},
      "outputs": [],
      "source": [
        "X = np.random.randint(0,10,(3,3))\n",
        "# Calculating inverse of X\n",
        "X_inv = np.linalg.inv(X)\n",
        "\n",
        "# Testing\n",
        "np.round(X_inv @ X,1)"
      ],
      "id": "eeeeb51c"
    },
    {
      "cell_type": "markdown",
      "metadata": {},
      "source": [
        "## Solving Equations with Matrix Algebra\n",
        "\n",
        "The foundation we’ve established for matrix algebra now allows us to\n",
        "efficiently solve systems of equations. Consider solving the following\n",
        "pair of simultaneous equations:\n",
        "\n",
        "<span id=\"eq-equation_system\">$$\n",
        "x_{11}a_{1} + x_{12}a_{2} = b_{1} \\\\\n",
        "x_{21}a_{1} + x_{22}a_{2} = b_{2}\n",
        " \\qquad(2)$$</span>\n",
        "\n",
        "Here, we know the values of $x$ and $b$ but need to find the values of\n",
        "$a$. These equations can be succinctly expressed using matrix notation:\n",
        "\n",
        "<span id=\"eq-Xab\">$$\n",
        "\\mathbf{X \\times a} = \\mathbf{b}\n",
        " \\qquad(3)$$</span>\n",
        "\n",
        "where $\\mathbf{a}$ and $\\mathbf{b}$ are column vectors. Let us define\n",
        "the right hand side vector `b` and the coeficient matrix `X` randomly in\n",
        "python as"
      ],
      "id": "f88cf2c5-b07c-49c4-a284-2d1c084c0cc8"
    },
    {
      "cell_type": "code",
      "execution_count": 7,
      "metadata": {},
      "outputs": [
        {
          "output_type": "stream",
          "name": "stdout",
          "text": [
            "[[90  2]\n",
            " [79 57]]\n",
            "[[37]\n",
            " [ 9]]"
          ]
        }
      ],
      "source": [
        "b =  np.random.randint(0,100,(2,1))\n",
        "# Define matrix X\n",
        "X =  np.random.randint(0,100,(2,2))\n",
        "print(X)\n",
        "print(b)"
      ],
      "id": "8e0dd2e4"
    },
    {
      "cell_type": "markdown",
      "metadata": {},
      "source": [
        "To solve for $\\mathbf{a}$, we use the inverse of $\\mathbf{X}$, provided\n",
        "it exists, and multiplies it with the left and right hand sides of the\n",
        "equation, just as we would divide with X on both sides to solve for a\n",
        "single equation:\n",
        "\n",
        "<span id=\"eq-matrix_inverse\">$$\n",
        "\\mathbf{X}^{-1} \\times \\mathbf{X} \\times \\mathbf{a} = \\mathbf{X}^{-1}\\mathbf{b}\n",
        " \\qquad(4)$$</span>\n",
        "\n",
        "Since we know that $\\mathbf{X}^{-1}$ is the solution to\n",
        "$\\mathbf{X}^{-1} \\times \\mathbf{X} = \\mathbf{I}$, premultiplying with\n",
        "$\\mathbf{X}^{-1}$ yields:\n",
        "\n",
        "<span id=\"eq-matrix_inversion\">$$\n",
        "\\mathbf{a} = \\mathbf{X}^{-1}\\mathbf{b}\n",
        " \\qquad(5)$$</span>\n",
        "\n",
        "Hence, we have found an easy way to solve any linear equation. We can\n",
        "test that it works in python. Let us first find `a` using this approach:"
      ],
      "id": "03433d02-da4b-41df-bd20-86793f140a6e"
    },
    {
      "cell_type": "code",
      "execution_count": 8,
      "metadata": {},
      "outputs": [
        {
          "output_type": "display_data",
          "metadata": {},
          "data": {
            "text/plain": [
              "array([[ 0.42055511],\n",
              "       [-0.42497989]])"
            ]
          }
        }
      ],
      "source": [
        "a = np.linalg.inv(X) @ b\n",
        "a"
      ],
      "id": "e71f9ee7"
    },
    {
      "cell_type": "markdown",
      "metadata": {},
      "source": [
        "If you get a “Singular matrix” error its because we are generating `X`\n",
        "with a few random integers, which sometimes creates unsolvable systems,\n",
        "so just generate `X` and `b` again.\n",
        "\n",
        "Now we can test, if the solution for a actually works, by applying it on\n",
        "the original equation $\\mathbf{X \\times a} = \\mathbf{b}$. This should\n",
        "yield the right hand side of th equation, `b`:"
      ],
      "id": "3f9cc313-be31-4f6b-b07f-b053d7787bcd"
    },
    {
      "cell_type": "code",
      "execution_count": 9,
      "metadata": {},
      "outputs": [
        {
          "output_type": "display_data",
          "metadata": {},
          "data": {
            "text/plain": [
              "array([[37.],\n",
              "       [ 9.]])"
            ]
          }
        }
      ],
      "source": [
        "X @ a"
      ],
      "id": "eb03f00a"
    },
    {
      "cell_type": "markdown",
      "metadata": {},
      "source": [
        "Compare this with the actual `b`:"
      ],
      "id": "a8e30be3-d633-4d0e-89db-5b3236513ca7"
    },
    {
      "cell_type": "code",
      "execution_count": 10,
      "metadata": {},
      "outputs": [
        {
          "output_type": "display_data",
          "metadata": {},
          "data": {
            "text/plain": [
              "array([[37],\n",
              "       [ 9]])"
            ]
          }
        }
      ],
      "source": [
        "b"
      ],
      "id": "44e2a1ac"
    },
    {
      "cell_type": "markdown",
      "metadata": {},
      "source": [
        "Thus, we have identified an effective method to solve any system of\n",
        "equations, provided that $\\mathbf{X}$ is invertible. If $\\mathbf{X}$\n",
        "cannot be inverted, it indicates that two or more equations are\n",
        "essentially identical, leading to an “underdetermined” system. In such\n",
        "cases, some equations are redundant, and there are not enough\n",
        "independent equations to determine the values of all variables. Remember\n",
        "the fundamental rule: we need an equal number of equations and unknowns\n",
        "to uniquely solve for each variable.\n",
        "\n",
        "## Transposing\n",
        "\n",
        "Transposing a matrix involves swapping its rows and columns. For\n",
        "example, a $2 \\times 3$ matrix:\n",
        "\n",
        "<span id=\"eq-matrix_2x3\">$$\n",
        "\\mathbf{X}_{2 \\times 3} =\n",
        "\\begin{pmatrix}\n",
        "x_{11} & x_{12} & x_{13} \\\\\n",
        "x_{21} & x_{22} & x_{23}\n",
        "\\end{pmatrix}\n",
        " \\qquad(6)$$</span>\n",
        "\n",
        "transposes to:\n",
        "\n",
        "<span id=\"eq-matrix_3x2\">$$\n",
        "\\mathbf{X}_{2 \\times 3}^{\\prime} =\n",
        "\\begin{pmatrix}\n",
        "x_{11} & x_{21} \\\\\n",
        "x_{12} & x_{22} \\\\\n",
        "x_{13} & x_{23}\n",
        "\\end{pmatrix}\n",
        " \\qquad(7)$$</span>\n",
        "\n",
        "where $^{\\prime}$ denotes the transposed matrix. For a column vector\n",
        "$\\mathbf{a}$, transposing and then multiplying by itself,\n",
        "$\\mathbf{a}^{\\prime}\\mathbf{a}$, calculates the sum of squares of its\n",
        "components."
      ],
      "id": "32a245d1-8acc-45f9-b29a-e81d6cb13173"
    },
    {
      "cell_type": "code",
      "execution_count": 11,
      "metadata": {},
      "outputs": [
        {
          "output_type": "display_data",
          "metadata": {},
          "data": {
            "text/plain": [
              "array([[94, 34],\n",
              "       [32, 78],\n",
              "       [ 4, 34]])"
            ]
          }
        }
      ],
      "source": [
        "# Example of matrix transposition\n",
        "X_2x3 = np.random.randint(0,100,(2,3))\n",
        "X_transposed = X_2x3.T\n",
        "X_transposed"
      ],
      "id": "5cbff02d"
    },
    {
      "cell_type": "markdown",
      "metadata": {},
      "source": [
        "Transposition is often used to conform to the requirements of matrix\n",
        "multiplication, where the number of columns in the first matrix must\n",
        "match the number of rows in the second. If this is not the case, one\n",
        "might transpose the first matrix to facilitate multiplication.\n",
        "\n",
        "# Calculus and matrices\n",
        "\n",
        "Deriving matrices follows similar principles to deriving polynomials\n",
        "(Cayley 1858). For instance:\n",
        "\n",
        "<span id=\"eq-scalar_deriv\">$$\n",
        "\\frac{d\\left( a^{2} \\sigma^{2} \\right)}{da} = 2a \\sigma^{2}\n",
        " \\qquad(8)$$</span>\n",
        "\n",
        "applies to scalar variables, and for a matrix $\\Sigma$ and a column\n",
        "vector $\\mathbf{a}$, we have:\n",
        "\n",
        "<span id=\"eq-matrix_deriv\">$$\n",
        "\\frac{d\\left(\\mathbf{a}^{\\prime}{\\Sigma}\\mathbf{a}\\right)}{d\\mathbf{a}^{\\prime}} =2{\\Sigma}\\mathbf{a}\n",
        " \\qquad(9)$$</span>\n",
        "\n",
        "assuming ${\\Sigma}$ is symmetric. In practical terms, the derivative\n",
        "with respect to `a` here, given some values for `a`, is"
      ],
      "id": "799fea28-f687-4058-a531-5e50c20df783"
    },
    {
      "cell_type": "code",
      "execution_count": 12,
      "metadata": {},
      "outputs": [
        {
          "output_type": "display_data",
          "metadata": {},
          "data": {
            "text/plain": [
              "array([[ 2262],\n",
              "       [18678]])"
            ]
          }
        }
      ],
      "source": [
        "# Derivation with matrix and vector\n",
        "a = np.random.randint(0,100,(2,1))\n",
        "Sigma = np.random.randint(0,100,(2,2))\n",
        "\n",
        "# Derivative of a' Sigma a with respect to a\n",
        "derivative = 2 * Sigma @ a\n",
        "derivative"
      ],
      "id": "8bd523ae"
    },
    {
      "cell_type": "markdown",
      "metadata": {},
      "source": [
        "We can rewrite the matrix formulation in scalar form, to check that the\n",
        "rule is correct. The scalar form of\n",
        "$\\mathbf{a}^{\\prime} {\\Sigma}\\mathbf{a}$ is\n",
        "\n",
        "<span id=\"eq-matrix_vec_matr_vec_prod\">$$\n",
        "\\mathbf{a}^{\\prime} {\\Sigma} \\mathbf{a} = \\sum_{j=0}^{N} a_j \\left( \\sum_{i=0}^{N} a_i \\sigma_{ij} \\right)\n",
        " \\qquad(10)$$</span>\n",
        "\n",
        "You can verify that\n",
        "\n",
        "<span id=\"eq-matrix_vec_matr_vec_prod_long\">$$\n",
        "\\frac{d(\\mathbf{a}^{\\prime} {\\Sigma} \\mathbf{a}) }{d\\mathbf{a}}= 2 [\\sum_{i=0}^{N} a_i \\sigma_{i0}, ..., \\sum_{i=0}^{N} a_i \\sigma_{iN}]\n",
        " \\qquad(11)$$</span>\n",
        "\n",
        "# Optimal portfolios with more than one asset\n",
        "\n",
        "We remember from above the previous chapter that with one asset, the\n",
        "optimal portfolio was\n",
        "\n",
        "<span id=\"eq-opt_port\">$$\n",
        "a_{opt}=\\frac{(\\mu -r)}{\\lambda \\sigma^2}\n",
        " \\qquad(12)$$</span>\n",
        "\n",
        "From this we concluded that:\n",
        "\n",
        "1.  The more risk-averse the person is, the less they should invest.\n",
        "2.  The larger the expected return of the asset, the more should be\n",
        "    invested.\n",
        "3.  The greater the risk associated with the asset, represented by\n",
        "    $\\sigma^2$, the less should be invested.\n",
        "\n",
        "Now, let us consider the optimal investments if we have more than one\n",
        "asset, as developed by Markowitz (1952).\n",
        "\n",
        "## Optimal Portfolios with Any Number of Assets\n",
        "\n",
        "Let us now assume that the investor in the previous section has a\n",
        "portfolio of $N$ assets, not just one. Their wealth next period,\n",
        "assuming the entire amount is borrowed, is then expressed in matrix\n",
        "notation as:\n",
        "\n",
        "<span id=\"eq-opt_port\">$$\n",
        "W_1 = \\mathbf{a}'\\mathbf{x} - \\mathbf{1}r\n",
        " \\qquad(13)$$</span>\n",
        "\n",
        "where $\\mathbf{a}$ represents the portfolio weights, $\\mathbf{x}$\n",
        "represents the returns, and $\\mathbf{1}$ is a column vector of ones,\n",
        "such that $\\mathbf{1}r$ is a column vector of the risk-free interest\n",
        "rate $r$. Recall from earlier that the investor aims to maximize the\n",
        "difference between expected return and variance:\n",
        "\n",
        "<span id=\"eq-opt_port_max_prob\">$$\n",
        "\\max_{\\mathbf{a}} Z = \\mathbb{E}W_1 - \\lambda \\frac{1}{2} \\operatorname{var}(W_1)  \n",
        " \\qquad(14)$$</span>\n",
        "\n",
        "$\\mathbf{x}$ now is a column vector of many normally distributed\n",
        "variables with different variances and expectations. We denote the\n",
        "expected returns by $\\mu_i$ for asset $i$, and the associated vector of\n",
        "these returns by $\\mathbf{\\mu}$. Given a portfolio $\\mathbf{a}$, the\n",
        "expected return on the portfolio then becomes:\n",
        "\n",
        "<span id=\"eq-opt_port_FOC\">$$\n",
        "\\mathbb{E}W_1 = \\mathbf{a}^{\\prime}(\\mathbb{E}\\mathbf{x}-\\mathbf{1}r) = \\mathbf{a}^{\\prime}({\\mu} - \\mathbf{1}r)\n",
        " \\qquad(15)$$</span>\n",
        "\n",
        "For the variance, the risk free return $r$ is not relevant, since means\n",
        "are subtracted anyway. We define the covariance matrix, all the\n",
        "combinations of variance and covariance between the stocks as\n",
        "\n",
        "<span id=\"eq-covar_matrix\">$$\n",
        "\\operatorname{var}W_1 =  \\mathbf{a}^{\\prime}{\\Sigma} \\mathbf{a} = \n",
        "\\mathbf{a}^{\\prime}\n",
        "\\begin{bmatrix}\n",
        "\\sigma_00 & \\sigma_12 & \\cdots & \\sigma_1N \\\\\n",
        "\\sigma_12 & \\sigma_22 & \\cdots & \\vdots \\\\\n",
        "\\vdots & \\vdots & \\ddots & \\vdots \\\\\n",
        "\\sigma_1N & \\cdots & \\cdots & \\sigma_{NN}\n",
        "\\end{bmatrix}\n",
        "\\mathbf{a}\n",
        " \\qquad(16)$$</span>\n",
        "\n",
        "Where $\\sigma_{ij}$ is the covariance between $i$ and $j$, and\n",
        "$\\sigma_i^2$ is the variance of asset $i$. This is the covariance\n",
        "matrix, denoted by the capital sigma, ${\\Sigma}$.\n",
        "\n",
        "When a vector is normally distributed we write it as\n",
        "$\\mathbf{x} \\sim N({\\mu}, {\\Sigma})$.\n",
        "\n",
        "We have now derived expressions for $\\mathbb{E}(W_1)$ and\n",
        "$\\operatorname{var}(W_1)$ using matrix notation. Building on the\n",
        "concepts from the previous lecture, we can now formulate our portfolio\n",
        "optimization problem as:\n",
        "\n",
        "<span id=\"eq-opt_port_max_problem\">$$\n",
        "\\max_{\\mathbf{a}} Z = \\mathbf{a}^{\\prime}({\\mu} - \\mathbf{1}r) - \\lambda \\frac{1}{2} \\mathbf{a}^{\\prime}{\\Sigma}\\mathbf{a}\n",
        " \\qquad(17)$$</span>\n",
        "\n",
        "Taking the derivative with respect to $\\mathbf{a}^{\\prime}$ yields the\n",
        "$N$ first order conditions:\n",
        "\n",
        "<span id=\"eq-opt_port_FOC\">$$\n",
        "\\frac{dZ}{d\\mathbf{a}} = ({\\mu} - \\mathbf{1}r) - \\lambda {\\Sigma a} = 0\n",
        " \\qquad(18)$$</span>\n",
        "\n",
        "Hence, in optimum:\n",
        "\n",
        "<span id=\"eq-opt_port_FOC2\">$$\n",
        "{\\Sigma} \\mathbf{a}= \\frac{1}{\\lambda}({\\mu} - \\mathbf{1}r)\n",
        " \\qquad(19)$$</span>\n",
        "\n",
        "By premultiplying with the inverse of ${\\Sigma}$, we obtain the optimal\n",
        "portfolio:\n",
        "\n",
        "<span id=\"eq-opt_port_sol\">$$\n",
        "\\mathbf{a_{opt}} = \\frac{1}{\\lambda} {\\Sigma}^{-1}({\\mu} - \\mathbf{1}r)\n",
        " \\qquad(20)$$</span>\n",
        "\n",
        "Note that this formula looks very similar to the formula for an optimal\n",
        "portfolio with only one asset:\n",
        "\n",
        "<span id=\"eq-opt_port_scalar\">$$\n",
        "a_{opt} = \\frac{\\mu - r}{\\lambda \\sigma^2}\n",
        " \\qquad(21)$$</span>\n",
        "\n",
        "In general, we may draw the same conclusions as in the case of one\n",
        "asset:\n",
        "\n",
        "1.  The more risk-averse the person is (large $\\lambda$), the less they\n",
        "    should invest.\n",
        "2.  The larger the expected return the asset has, the more should be\n",
        "    invested.\n",
        "3.  The more risk is associated with the asset, the less should be\n",
        "    invested.\n",
        "\n",
        "# Empirical example - optimal porfolio and the portfolio front\n",
        "\n",
        "We will now create an optimal portfolio using data from Titlon, and draw\n",
        "the “portfolio front” (Markowitz 1952). The portfolio front are the\n",
        "smallest possible volatility of a set of assets, for all return leves.\n",
        "We use the script feature of Titlon to fetch the data, and storing it in\n",
        "`'data/stocks.df'`"
      ],
      "id": "0e7aa188-422c-45cf-9657-8cd4b1a9e366"
    },
    {
      "cell_type": "code",
      "execution_count": 13,
      "metadata": {},
      "outputs": [],
      "source": [
        "import pandas as pd\n",
        "import os\n",
        "#Query script for MySQL client\n",
        "import pymysql\n",
        "con = pymysql.connect(host='titlon.uit.no', \n",
        "                user      = \"user@uit.no\",\n",
        "                password  = \"passwordfromtitlon\",\n",
        "                    database='OSE')  \n",
        "crsr=con.cursor()\n",
        "crsr.execute(\"SET SESSION MAX_EXECUTION_TIME=60000;\")\n",
        "crsr.execute(\"\"\"\n",
        "    SELECT  * FROM `OSE`.`equity` \n",
        "    WHERE year(`Date`) >= 2016\n",
        "    ORDER BY `Name`,`Date`\n",
        "\"\"\")\n",
        "r=crsr.fetchall()\n",
        "df=pd.DataFrame(list(r), \n",
        "            columns=[i[0] for i in crsr.description])\n",
        "df\n",
        "\n",
        "\n",
        "\n",
        "#YOU NEED TO BE CONNECTED TO YOUR INSTITUTION VIA VPN,\n",
        "# OR BE AT THE INSTITUTION, FOR THIS CODE TO WORK\n",
        "\n",
        "os.makedirs('output', exist_ok=True)\n",
        "pd.to_pickle(df,'data/stocks.df')"
      ],
      "id": "c029f5e2"
    },
    {
      "cell_type": "markdown",
      "metadata": {},
      "source": [
        "We now reload the data, and pick the four stocks  \n",
        "1. has been traded at the first and last day of the sample 2. that are\n",
        "most traded (sorted on sum of `Turnover`)\n",
        "\n",
        "We can obtain that with this code:"
      ],
      "id": "f5c1a948-c190-4da7-b0a1-7e0595db0589"
    },
    {
      "cell_type": "code",
      "execution_count": 14,
      "metadata": {},
      "outputs": [
        {
          "output_type": "display_data",
          "metadata": {},
          "data": {
            "text/html": [
              "\n",
              "</div>"
            ]
          }
        }
      ],
      "source": [
        "import numpy as np\n",
        "import pandas as pd\n",
        "\n",
        "df = pd.read_pickle('data/stocks.df')\n",
        "# Defining annual risk free rate. \n",
        "rf = df['NOWA_DayLnrate'].mean()*7\n",
        "\n",
        "# Identifying the ISINs with dates both at the beginning\n",
        "# and the end of the data set\n",
        "isin_with_first_date = (\n",
        "    df[df['Date'] == df['Date'].min()]['ISIN'].unique()\n",
        "    )\n",
        "isin_with_last_date = (\n",
        "    df[df['Date'] == df['Date'].max()]['ISIN'].unique()\n",
        "    )\n",
        "\n",
        "valid_isins = (\n",
        "    set(isin_with_first_date)\n",
        "    .intersection(isin_with_last_date)\n",
        "    )\n",
        "\n",
        "\n",
        "df = df[df['ISIN'].isin(valid_isins)]\n",
        "\n",
        "# creating a new column - the combination of Name and ISIN\n",
        "df['Name (ISIN)'] = (\n",
        "    df['Name'].str.upper().str.strip() + '(' + df['ISIN'] + ')'\n",
        "    )\n",
        "\n",
        "# keeping only the most traded shares\n",
        "res = (\n",
        "        df.groupby(['Name (ISIN)'])\n",
        "        .agg({'Turnover': 'sum'})\n",
        "        .sort_values(by='Turnover', ascending=False)\n",
        ")\n",
        "df = df.merge(res.head(4), on=['Name (ISIN)'], \n",
        "                                how='inner')\n",
        "res.head(4)"
      ],
      "id": "bd4df63a"
    },
    {
      "cell_type": "markdown",
      "metadata": {},
      "source": [
        "## The historic mean and covariance matrix\n",
        "\n",
        "We will now calculate the covariance matrix and the mean vector. To\n",
        "begin, we’ll create a function that reformats the data from its long\n",
        "format (where stock prices are listed sequentially in a single column)\n",
        "to a wide format. In this wide format, unique dates will be in the first\n",
        "column, with subsequent columns containing prices for each stock."
      ],
      "id": "8a2097be-6b0b-4144-8bcf-72547bde2cbf"
    },
    {
      "cell_type": "code",
      "execution_count": 15,
      "metadata": {},
      "outputs": [
        {
          "output_type": "display_data",
          "metadata": {},
          "data": {
            "text/html": [
              "\n",
              "<p>507 rows × 4 columns</p>\n",
              "</div>"
            ]
          }
        }
      ],
      "source": [
        "def get_matrix(df, field):\n",
        "    \"\"\"Converts the df to a matrix df that can \n",
        "    be used to calculate the covariance matrix\"\"\"\n",
        "    \n",
        "    import pandas as pd\n",
        "    df['Date'] = pd.to_datetime(df['Date'])\n",
        "    df_unique = df.drop_duplicates(\n",
        "                        subset=['Date', 'ISIN'])\n",
        "\n",
        "    pivot_df = df_unique.pivot(index='Date', \n",
        "                                columns='Symbol', \n",
        "                                values=field)\n",
        "\n",
        "    pivot_df = pivot_df.dropna()\n",
        "\n",
        "    # Annualized weekly returns\n",
        "    df_weekly = pivot_df.resample('W').sum()\n",
        "\n",
        "    return df_weekly\n",
        "\n",
        "#X is a matrxi with e\n",
        "X_df = get_matrix(df, 'lnDeltaP') \n",
        "X_df = X_df.sort_index()\n",
        "\n",
        "X_df"
      ],
      "id": "49fa346a"
    },
    {
      "cell_type": "markdown",
      "metadata": {},
      "source": [
        "Wit this data, it is relatively easy to calculate covariance and the\n",
        "means vector"
      ],
      "id": "d07cb429-c377-46a1-85c9-8fc6ff32842f"
    },
    {
      "cell_type": "code",
      "execution_count": 16,
      "metadata": {},
      "outputs": [],
      "source": [
        "# Converting X to a numpy array:\n",
        "X = np.array(X_df)\n",
        "\n",
        "# Calculating the covariance\n",
        "cov_matrix = np.cov(X, rowvar=False)\n",
        "\n",
        "# Calculating the means vector, and reshaping it to a \n",
        "# column vector. \n",
        "\n",
        "means = np.mean(X, axis=0).reshape((X.shape[1],1))"
      ],
      "id": "ec32a9a4"
    },
    {
      "cell_type": "markdown",
      "metadata": {},
      "source": [
        "## Plotting the portfolio front\n",
        "\n",
        "We now turn to portfolio front. The portfolio front represents the\n",
        "volatility of the portfolio with the least variance, for a given\n",
        "portfolio return. Hence, we want a function of portfolio return that\n",
        "represent the minimum variance portfolios.\n",
        "\n",
        "It turns out that by defining a few simple scalars, there is a\n",
        "reasonably simple expression for the set of minimum variance portfolios.\n",
        "The scalars are:\n",
        "\n",
        "<span id=\"eq-opt_port_A\">$$\n",
        "A = \\mathbf{1}^{\\prime}{\\Sigma}^{-1}\\mathbf{1}\n",
        " \\qquad(22)$$</span>\n",
        "\n",
        "<span id=\"eq-opt_port_B\">$$\n",
        "B = \\mathbf{1}^{\\prime}{\\Sigma}^{-1}{\\mu-\\mathbf{1}r}\n",
        " \\qquad(23)$$</span>\n",
        "\n",
        "<span id=\"eq-opt_port_C\">$$\n",
        "C = {\\mu-\\mathbf{1}r}^{\\prime}{\\Sigma}^{-1}{\\mu-\\mathbf{1}r}\n",
        " \\qquad(24)$$</span>\n",
        "\n",
        "With these definition, the portfolio front, representing all minimum\n",
        "variance portfolios for a given expected return and a total investment\n",
        "of 1, is\n",
        "\n",
        "<span id=\"eq-opt_port_front\">$$\n",
        "{\\sigma}_{opt} =\\frac{1}{A}+\\frac{ \\left(\\mu_{opt}-\\frac{B}{A}\\right)^2}{C-\\frac{B^2}{A}} \n",
        " \\qquad(25)$$</span>\n",
        "\n",
        "where $\\mu_{opt}={\\mu}^{\\prime}\\mathbf{a}$\n",
        "\n",
        "This formula automatically ensures that the sum of all the portfolio\n",
        "weights are 1. Now, let us define these variables, and the function. A,\n",
        "B and C in python:"
      ],
      "id": "f01fbbef-85f4-4032-8366-820f14188799"
    },
    {
      "cell_type": "code",
      "execution_count": 17,
      "metadata": {},
      "outputs": [
        {
          "output_type": "display_data",
          "metadata": {},
          "data": {
            "text/plain": [
              "np.float64(0.0005634655544569712)"
            ]
          }
        }
      ],
      "source": [
        "ones = np.ones((len(means),1))\n",
        "\n",
        "A = (ones.T @ np.linalg.inv(cov_matrix) @ ones)[0][0]\n",
        "\n",
        "B = (ones.T @ np.linalg.inv(cov_matrix) \n",
        "                                @ (means-rf))[0][0]\n",
        "\n",
        "C = ((means.T-rf) @ np.linalg.inv(cov_matrix) \n",
        "                                @ (means-rf))[0][0]\n",
        "rf"
      ],
      "id": "102e20e6"
    },
    {
      "cell_type": "markdown",
      "metadata": {},
      "source": [
        "The portfolio front function, that returns the volatility associated\n",
        "with the minimum variance portfolio for a given `expected_excess_return`\n",
        "can then be defined as:"
      ],
      "id": "dec0dff5-1744-47c5-abba-7e7f00575ac8"
    },
    {
      "cell_type": "code",
      "execution_count": 18,
      "metadata": {},
      "outputs": [],
      "source": [
        "def portfolio_front(expected_excess_return, a, b, c):\n",
        "    r = expected_excess_return\n",
        "    minimum_variance = (1/a \n",
        "            + ((r - abs(b)/a)**2) / (c - b**2/a))\n",
        "    minimum_volatility = minimum_variance**0.5\n",
        "    return minimum_volatility"
      ],
      "id": "a2821555"
    },
    {
      "cell_type": "markdown",
      "metadata": {},
      "source": [
        "With a defined portfolio frontier function, we can now plot the\n",
        "portfolio frontier. To make the weekly returns comparable on an annual\n",
        "scale, we multiply them by a scaling factor, `plot_scale`, set to 52. We\n",
        "can simply multiply the returns, because returns in Titlon are\n",
        "conveniently defined as log returns, calculated as\n",
        "$\\log(x_{t}) - \\log(x_{t-1})$, rather than the typical relative return\n",
        "$\\frac{x_{t} - x_{t-1}}{x_{t-1}}$."
      ],
      "id": "3a52fb3e-2ab7-4e28-808a-bbbfe535b515"
    },
    {
      "cell_type": "code",
      "execution_count": 19,
      "metadata": {},
      "outputs": [
        {
          "output_type": "display_data",
          "metadata": {},
          "data": {
            "image/png": "[encoded data removed]"
          }
        }
      ],
      "source": [
        "from matplotlib import pyplot as plt\n",
        "#Creating plot\n",
        "fig, ax = plt.subplots(figsize=(10, 6))\n",
        "plot_scale = 52\n",
        "MAX_AXIS = 0.005\n",
        "#applying the function\n",
        "rp_values = np.linspace(0, MAX_AXIS-rf, 100)\n",
        "sigma_values = portfolio_front(rp_values, A, B, C)\n",
        "\n",
        "#plotting, after annualizing the weekly data\n",
        "ax.plot(plot_scale**0.5*(sigma_values), \n",
        "            plot_scale*(rp_values+rf), \n",
        "            label='Efficient Frontier')\n",
        "\n",
        "#plot settings:\n",
        "ax.set_xlim([0, np.max(sigma_values*plot_scale**0.5)])\n",
        "ax.set_ylim([0, (np.max(rp_values)+rf)*plot_scale])\n",
        "ax.set_xlabel('Sigma (Risk)')\n",
        "ax.set_ylabel('Rp (Return)')\n",
        "ax.set_title('Efficient Frontier')\n",
        "ax.legend()"
      ],
      "id": "e71c0d0d"
    },
    {
      "cell_type": "markdown",
      "metadata": {},
      "source": [
        "A key advantage of using log returns is that they account for symmetry\n",
        "in gains and losses. For example, with relative returns, a 10% gain\n",
        "followed by a 10% loss results in a net loss of 1%. However, with log\n",
        "returns, a 10% gain and a 10% loss precisely offset each other, leaving\n",
        "you with no net change from the starting point.\n",
        "\n",
        "## Adding the optimal portfolio to the chart\n",
        "\n",
        "Let us now add the point for the optimal portfolio. The optimal\n",
        "portfolio is\n",
        "\n",
        "<span id=\"eq-opt_port_sol2\">$$\n",
        "\\mathbf{a}_{opt} = \\frac{1}{\\lambda}{\\Sigma}^{-1}({\\mu} - \\mathbf{1}r)\n",
        " \\qquad(26)$$</span>\n",
        "\n",
        "The total cost (sum) of this portfolio is <span id=\"eq-sum_eq\">$$\n",
        "\\mathbf{1}^{\\prime}\\mathbf{a}_{opt} = \\frac{1}{\\lambda} \\mathbf{1}^{\\prime}{\\Sigma}^{-1}({\\mu} - \\mathbf{1}r) = B\n",
        " \\qquad(27)$$</span>\n",
        "\n",
        "Where the last equality follows from Equation . The normalized optimal\n",
        "portfolio is then\n",
        "\n",
        "<span id=\"eq-norm_opt\">$$\n",
        "\\mathbf{a}_{norm}  = \\frac{ {\\Sigma}^{-1}({\\mu} - \\mathbf{1}r) }\n",
        "{ \\mathbf{1}^{\\prime}{\\Sigma}^{-1}({\\mu} - \\mathbf{1}r)} = \\frac{ 1 }\n",
        "{B}{\\Sigma}^{-1}({\\mu} - \\mathbf{1}r)\n",
        " \\qquad(28)$$</span>\n",
        "\n",
        "The expected return of the optimal portfolio on the frontier, is then\n",
        "\n",
        "<span id=\"eq-opt_port_sol_exp_ret\">$$\n",
        "\\mu_{port}=({\\mu} - \\mathbf{1}r)^{\\prime}\\mathbf{a_{norm}}  = \\frac{({\\mu} - \\mathbf{1}r)^{\\prime}{\\Sigma}^{-1}({\\mu} - \\mathbf{1}r)}{ \\mathbf{1}^{\\prime}{\\Sigma}^{-1}({\\mu} - \\mathbf{1}r)} \n",
        " \\qquad(29)$$</span>\n",
        "\n",
        "Which is simply, according to the previous definitions of B and C:\n",
        "<span id=\"eq-opt_port_sol_exp_ret_simple\">$$\n",
        "\\mu_{port}=\\frac{C}{B}\n",
        " \\qquad(30)$$</span>\n",
        "\n",
        "Let us add that to the plot"
      ],
      "id": "67880f9f-de52-4e95-9951-a87ae79e2f92"
    },
    {
      "cell_type": "code",
      "execution_count": 20,
      "metadata": {},
      "outputs": [
        {
          "output_type": "display_data",
          "metadata": {},
          "data": {
            "image/png": "[encoded data removed]"
          }
        }
      ],
      "source": [
        "# Calculating the tangency point of the normalized \n",
        "# optimal portfolio\n",
        "tangency_sigma =  portfolio_front(C/B, A, B, C)\n",
        "\n",
        "#plotting it, after annualizing the weekly data\n",
        "ax.plot(plot_scale**0.5*tangency_sigma, \n",
        "                    plot_scale*(C/B + rf), \n",
        "                    'ro',label='Tangency Point')\n",
        "ax.legend()\n",
        "fig"
      ],
      "id": "b994701d"
    },
    {
      "cell_type": "markdown",
      "metadata": {},
      "source": [
        "## Adding the tangency line\n",
        "\n",
        "Let us now draw a tangency line from the risk free interest rate `rf` to\n",
        "the optimal portfolio point. The slope will be the Sharp-ratio (Sharpe\n",
        "1964)\n",
        "\n",
        "<span id=\"eq-opt_port_sol_sharpe\">$$\n",
        "S=\\frac{C/B}{f(C/B)}\n",
        " \\qquad(31)$$</span>\n",
        "\n",
        "where $f(C/B)$ is the portfolio front function\n",
        "`portfolio_front(C/B, A, B, C)` at `C/B`"
      ],
      "id": "b0b9f8ee-4e36-4b56-956b-63c594c38494"
    },
    {
      "cell_type": "code",
      "execution_count": 21,
      "metadata": {},
      "outputs": [
        {
          "output_type": "display_data",
          "metadata": {},
          "data": {}
        }
      ],
      "source": [
        "sigma_range = np.linspace(0, np.max(sigma_values), 100)\n",
        "\n",
        "# Plotting the portfolio front, after annualizing the \n",
        "# weekly data\n",
        "ax.plot(plot_scale**0.5*sigma_range, plot_scale*(rf \n",
        "                + sigma_range*(C/B)/tangency_sigma), \n",
        "                color='r', linestyle='--', \n",
        "                label='Capital Market Line')\n",
        "\n",
        "ax.legend()\n",
        "\n",
        "fig"
      ],
      "id": "cell-fig-cml"
    },
    {
      "cell_type": "markdown",
      "metadata": {},
      "source": [
        "<a href=\"#fig-cml\" class=\"quarto-xref\">Figure 1</a> illustrates the\n",
        "concept of the separation theorem as described by Tobin (1958). Once the\n",
        "optimal portfolio is identified, it can be combined with a risk-free\n",
        "asset, allowing the investor to choose any point on the red capital\n",
        "allocation line.\n",
        "\n",
        "The optimal portfolio represents the tangency point of this line with\n",
        "the portfolio front. Investors cannot select any asset above or to the\n",
        "left of the portfolio front, as such positions are not feasible. Any\n",
        "point within the front is considered inefficient, as better trade-offs\n",
        "between risk and return are attainable. The capital allocation line,\n",
        "therefore, must begin at the risk-free return and have the steepest\n",
        "possible slope while touching the portfolio front, as depicted in\n",
        "<a href=\"#fig-cml\" class=\"quarto-xref\">Figure 1</a>.\n",
        "\n",
        "## Adding the stocks spanning the portfolio front\n",
        "\n",
        "It is interesting to check where the original stocks that span the\n",
        "front, are in the picture. Let us add the cooridnates of these. We first\n",
        "calcualate their mean and standard devaition, and then plot them."
      ],
      "id": "3e88dc6d-e927-4ded-bb42-6a9525d4aa61"
    },
    {
      "cell_type": "code",
      "execution_count": 22,
      "metadata": {},
      "outputs": [
        {
          "output_type": "display_data",
          "metadata": {},
          "data": {
            "image/png": "[encoded data removed]"
          }
        }
      ],
      "source": [
        "expected = X_df.mean()*52\n",
        "std = X_df.std()*52**0.5\n",
        "\n",
        "\n",
        "for series in expected.index:\n",
        "        ax.scatter(std[series], expected[series], label=series)\n",
        "        ax.text(std[series], expected[series], series, fontsize=8, ha='right', va='bottom')\n",
        "\n",
        "fig"
      ],
      "id": "aeb6e9e0"
    },
    {
      "cell_type": "markdown",
      "metadata": {},
      "source": [
        "## The optimal portfolio\n",
        "\n",
        "Finally, we might want to evaluate the actual amounts that we should\n",
        "invest in each company, if we wanted to invest in the optimal portfolio.\n",
        "The actual portfolio, normalized to sum to one, is as previously implied\n",
        "\n",
        "<span id=\"eq-opt_port_sol_norm2\">$$\n",
        "\\mathbf{a}_{norm}  = \\frac{1}\n",
        "{B} {\\Sigma}^{-1}({\\mu} - \\mathbf{1}r) \n",
        " \\qquad(32)$$</span>\n",
        "\n",
        "where $B$ is the sum of the optimal portfolio, as previously defined in\n",
        "\n",
        "We can code that as"
      ],
      "id": "c3ba431b-e296-4432-bff8-dd3796acd223"
    },
    {
      "cell_type": "code",
      "execution_count": 23,
      "metadata": {},
      "outputs": [
        {
          "output_type": "stream",
          "name": "stdout",
          "text": [
            "Hence the optimal portfolio in this case is"
          ]
        },
        {
          "output_type": "display_data",
          "metadata": {},
          "data": {
            "text/html": [
              "\n",
              "</div>"
            ]
          }
        }
      ],
      "source": [
        "#Calculating the normalized optimal portfolio\n",
        "opt_port = np.linalg.inv(cov_matrix) @ (means-rf)/B\n",
        "\n",
        "#Calculating the returns of the optimal portfolio:\n",
        "X_df['Optimal'] = X @ opt_port\n",
        "\n",
        "#Saving the dataframe for later use:\n",
        "pd.to_pickle(X_df, 'data/X.df')\n",
        "\n",
        "# inserting the portfolio into a data frame for display\n",
        "d = {}\n",
        "for i in range(len(opt_port)):\n",
        "    d[X_df.columns[i]] = [\n",
        "            f\"{np.round(opt_port[i][0]*100,0)}%\"\n",
        "        ]\n",
        "\n",
        "print(\"Hence the optimal portfolio in this case is\")\n",
        "pd.DataFrame(d)"
      ],
      "id": "22947a8b"
    },
    {
      "cell_type": "markdown",
      "metadata": {},
      "source": [
        "***Coding Challenges:***\n",
        "\n",
        "-   **Challenge 1**: Obtain a three or four time series with asset\n",
        "    returns, and calculate the variance-covariance matrix and the means\n",
        "\n",
        "-   **Challenge 2**: Use your calculated covariance matrix and means,\n",
        "    and the code provided above, to draw a portfolio front.\n",
        "\n",
        "-   **Challenge 3**: Use the same information to plot the points of each\n",
        "    portfolio in the same chart.\n",
        "\n",
        "-   **Challenge 4**: Calculate the optimal portfolio and place it in the\n",
        "    chart, together with the capital market line\n",
        "\n",
        "# Literature\n",
        "\n",
        "Cayley, Arthur. 1858. “A Memoir on the Theory of Matrices.”\n",
        "*Philosophical Transactions of the Royal Society of London* 148: 17–37.\n",
        "<https://doi.org/10.1098/rstl.1858.0002>.\n",
        "\n",
        "Markowitz, Harry. 1952. “Portfolio Selection.” *The Journal of Finance*\n",
        "7 (1): 77–91. <https://doi.org/10.2307/2975974>.\n",
        "\n",
        "Sharpe, William F. 1964. “Capital Asset Prices: A Theory of Market\n",
        "Equilibrium Under Conditions of Risk.” *The Journal of Finance* 19 (3):\n",
        "425–42. <https://doi.org/10.2307/2977928>.\n",
        "\n",
        "Tobin, James. 1958. “Liquidity Preference as Behavior Towards Risk.”\n",
        "*The Review of Economic Studies* 25 (2): 65–86.\n",
        "<https://doi.org/10.2307/2296205>."
      ],
      "id": "a711f7d4-6c51-48c6-8f43-14289ad5896f"
    }
  ],
  "nbformat": 4,
  "nbformat_minor": 5,
  "metadata": {
    "kernelspec": {
      "name": "python3",
      "display_name": "Python 3 (ipykernel)",
      "language": "python",
      "path": "/Users/esi000/Library/Python/3.13/share/jupyter/kernels/python3"
    },
    "language_info": {
      "name": "python",
      "codemirror_mode": {
        "name": "ipython",
        "version": "3"
      },
      "file_extension": ".py",
      "mimetype": "text/x-python",
      "nbconvert_exporter": "python",
      "pygments_lexer": "ipython3",
      "version": "3.13.7"
    }
  }
}