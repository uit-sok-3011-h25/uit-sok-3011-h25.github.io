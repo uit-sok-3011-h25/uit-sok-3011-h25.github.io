{
  "cells": [
    {
      "cell_type": "markdown",
      "metadata": {},
      "source": [
        "# 2 - Utility, investor types and optimal portfolio with one asset\n",
        "\n",
        "Espen Sirnes  \n",
        "2025-08-10\n",
        "\n",
        "# Expected Utility\n",
        "\n",
        "In finance, the utility function is typically defined as the utility\n",
        "derived from a certain amount $x$. It is generally assumed that greater\n",
        "wealth yields higher utility, hence the utility function should be\n",
        "increasing, meaning $U'(x) > 0$. In situations involving risk, such as\n",
        "holding shares with uncertain future values, it becomes useful calculate\n",
        "the *expected utility* of a set of possible outcomes $x_i$ with\n",
        "probabilities $P(x_i)$ and utilities $u(x_i)$ (Neumann and Morgenstern\n",
        "1947).\n",
        "\n",
        "This builds on the general notion of expectations in statistics. For a\n",
        "set of outcomes $x_i$ and probabilities $P(x_i)$ for example, the\n",
        "expected value is $X=\\{ x_0, x_1,\\dots,x_n \\}$ is\n",
        "\n",
        "<span id=\"eq-descrete_exp\">$$\n",
        "\\mathbb{E}[X] = \\sum_{i=0}^{N} P(x_i) x_i\n",
        " \\qquad(1)$$</span>\n",
        "\n",
        "For example"
      ],
      "id": "d8966887-4888-43fb-a6cb-8ef33b7640b7"
    },
    {
      "cell_type": "code",
      "execution_count": 1,
      "metadata": {},
      "outputs": [
        {
          "output_type": "display_data",
          "metadata": {},
          "data": {
            "text/plain": [
              "np.float64(9.5)"
            ]
          }
        }
      ],
      "source": [
        "import numpy as np\n",
        "\n",
        "p = np.array([0.5, 0.2, 0.3])\n",
        "x = np.array([3,10, 20])\n",
        "\n",
        "np.sum(p*x)"
      ],
      "id": "29032c4b"
    },
    {
      "cell_type": "markdown",
      "metadata": {},
      "source": [
        "In the same way, the descrete expected utility for a set of outcomes\n",
        "$x_i$ with probabilities $P(x_i)$ is defined as follows:\n",
        "\n",
        "<span id=\"eq-descrete_exp\">$$\n",
        "U(X) = \\mathbb{E}[u(X)] = \\sum_{i=0}^{N} P(x_i) u(x_i)\n",
        " \\qquad(2)$$</span>\n",
        "\n",
        "where $P(x_i)$ is the probability that $X$ assumes the value $x_i$, and\n",
        "$u(x_i)$ represents the utility derived if that event occurs.\n",
        "\n",
        "For example, say utilities 2,-4 and 6 occur with probabilities 0.5,0.2\n",
        "and 0.3, then the expected utility is"
      ],
      "id": "e7a9de99-de35-4c25-9b21-03dff963281e"
    },
    {
      "cell_type": "code",
      "execution_count": 2,
      "metadata": {},
      "outputs": [
        {
          "output_type": "display_data",
          "metadata": {},
          "data": {
            "text/plain": [
              "np.float64(1.9999999999999998)"
            ]
          }
        }
      ],
      "source": [
        "import numpy as np\n",
        "\n",
        "p = np.array([0.5, 0.2, 0.3])\n",
        "u = np.array([2, -4, 6])\n",
        "\n",
        "U = np.sum(p*u)\n",
        "U"
      ],
      "id": "4a626e33"
    },
    {
      "cell_type": "markdown",
      "metadata": {},
      "source": [
        "For a continuous distribution, the idea is the same. We multipliy each\n",
        "utility state $u(x_i)$ with the probability it occurs $f(x)dx$. The\n",
        "integral sign $\\int_{-\\infty}^{\\infty} \\dots \\,$ (Leibniz 1969), is the\n",
        "equvalent of a sum for continous variables. The expected utility is\n",
        "therefore given by:\n",
        "\n",
        "<span id=\"eq-cont_exp\">$$\n",
        "U(X) = \\mathbb{E}[u(X)] = \\int_{-\\infty}^{\\infty} u(x) f(x)\\ dx,\n",
        " \\qquad(3)$$</span>\n",
        "\n",
        "where $f(x)$ is the density function of $X$, such as the normal\n",
        "distribution.\n",
        "\n",
        "## Descrerte normal distribution\n",
        "\n",
        "To make this a bit more tangible, let us assume f(x) represents the\n",
        "standard normal distribution (variance=1 and mean=0), and assume we\n",
        "categorize the outcomes x into five intervals. In python we can obtain\n",
        "descrete quivalents of the the normal probabities (Gauss 1809) of a set\n",
        "of intervalas in the range `-maximin` to `maxmin`, each with a width of\n",
        "`dx`, as follows"
      ],
      "id": "79c6edae-92d4-45f1-9b74-d6d1a7af622b"
    },
    {
      "cell_type": "code",
      "execution_count": 3,
      "metadata": {},
      "outputs": [
        {
          "output_type": "stream",
          "name": "stdout",
          "text": [
            "Outcomes: [-4 -2  0  2  4]\n",
            "Probabilities: ['0.0%', '5.0%', '40.0%', '5.0%', '0.0%']\n",
            "Sum of probabilities: 1.014383747758677"
          ]
        }
      ],
      "source": [
        "from scipy.stats import norm\n",
        "\n",
        "dx = 2\n",
        "maxmin = 4\n",
        "\n",
        "# Define the x range from -maxmin to maxmin\n",
        "x = np.arange(-maxmin, maxmin + dx, dx)\n",
        "\n",
        "# Calculate the corresponding standard normal distribution,\n",
        "# where mean = 0 and standard deviation = 1\n",
        "p = norm.pdf(x, 0, 1)\n",
        "\n",
        "print(f\"Outcomes: {x}\")\n",
        "p_perc = [f\"{i}%\" for i in np.round(p*100,0)]\n",
        "print(f\"Probabilities: {p_perc}\")\n",
        "print(f\"Sum of probabilities: {np.sum(dx*p)}\")"
      ],
      "id": "calc-descrete-dist"
    },
    {
      "cell_type": "markdown",
      "metadata": {},
      "source": [
        "Probabilities sum by definition to one, but we see that these do not sum\n",
        "to exactly 1.0. This discrepancy arises due to the coarse nature of the\n",
        "discrete categories.\n",
        "\n",
        "We can use the function `plot_descrete_and_normal` in the local module\n",
        "`utility.py` in this repository to visualize the probabilities and the\n",
        "normal distribution:\n",
        "\n",
        "*Figure 1*:"
      ],
      "id": "9ab0003b-d14b-4d13-81fe-160866184409"
    },
    {
      "cell_type": "code",
      "execution_count": 4,
      "metadata": {},
      "outputs": [
        {
          "output_type": "display_data",
          "metadata": {},
          "data": {}
        }
      ],
      "source": [
        "# Using utility.plot_descrete_and_normal() to plot the descrete \n",
        "# distribution and the corresponding normal distribution.\n",
        "import utility\n",
        "fig, ax = utility.plot_descrete_and_normal(p, x, dx, maxmin)"
      ],
      "id": "cell-fig-discrete-normal"
    },
    {
      "cell_type": "markdown",
      "metadata": {},
      "source": [
        "*Coding Challenges:*\n",
        "\n",
        "-   **Challenge 1**: Reduce the interval size $dx$ and sum the\n",
        "    probabilities to observe if the total approaches 1.\n",
        "\n",
        "As demonstrated above, decreasing the interval size $dx$ brings the\n",
        "discrete distribution closer to the continuous one. The continuous\n",
        "distribution serves as an approximation when outcomes are real numbers,\n",
        "which is often the case in investment scenarios.\n",
        "\n",
        "The primary advantage of continuous variables over discrete ones is that\n",
        "we can apply powerful mathematical tools, such as derivatives and\n",
        "integrals, from calculus.\n",
        "\n",
        "## Caclulating the mean and variance with a descrete distribution\n",
        "\n",
        "With the descrete distribution given by the probabilities `p` and values\n",
        "`x` calculated shown in\n",
        "<a href=\"#fig-discrete-normal\" class=\"quarto-xref\">Figure 1</a>, we can\n",
        "for example calculate the expected value and variance with theses\n",
        "probabilities. Since the standard normal distribution was assumed, we\n",
        "would expect the mean to be close to 0 and the variance to be close to\n",
        "one"
      ],
      "id": "059919d5-8cf4-43c8-8ba5-f9821755bd36"
    },
    {
      "cell_type": "code",
      "execution_count": 5,
      "metadata": {},
      "outputs": [
        {
          "output_type": "stream",
          "name": "stdout",
          "text": [
            "Calculated mean is: 5.7462715141731735e-18\n",
            "Calculated variance is: 0.8724205986599617"
          ]
        }
      ],
      "source": [
        "print(f\"Calculated mean is: {np.sum(p*x)}\")\n",
        "print(f\"Calculated variance is: {np.sum(\n",
        "        p*\n",
        "           ((x-np.sum(p*x))**2)\n",
        "                *dx)\n",
        "        }\")"
      ],
      "id": "calc-mean-variance"
    },
    {
      "cell_type": "markdown",
      "metadata": {},
      "source": [
        "We see that the mean is pretty close to zero, but the variance is not\n",
        "that close to one. The likely reason for the latter is the coarse\n",
        "grouping.\n",
        "\n",
        "-   **Challenge 2**: See if a finer categorization will give a more\n",
        "    exact variance estimate.\n",
        "\n",
        "## Calculating expected utility\n",
        "\n",
        "Let us now get back to the main topic, expected utility theory. A key\n",
        "outcome of this model is that with a concave utility function, an\n",
        "individual will always prefer a guaranteed cash flow over a speculative\n",
        "investment with the same expected return. Consider an individual with an\n",
        "exponential (Euler 1748) utility function:\n",
        "\n",
        "<span id=\"eq-CARA_utility\">$$\n",
        "u(x) = -\\mathrm{e}^{-\\rho\\cdot x}\n",
        " \\qquad(4)$$</span>\n",
        "\n",
        "which is increasing and concave, as shown by its first and second\n",
        "derivatives:\n",
        "\n",
        "<span id=\"eq-CARA_utility_derivative\">$$\n",
        "u'(x) = -\\rho \\cdot u(x)>0\n",
        " \\qquad(5)$$</span> <span id=\"eq-CARA_utility_2derivative\">$$\n",
        "u''(x) = \\rho^2 \\cdot u(x)< 0\n",
        " \\qquad(6)$$</span>\n",
        "\n",
        "Suppose there is a 50% chance of $x=0.5$ and a 50% chance of $x=1.5$.\n",
        "That is, the possible outcomes are given by $X = \\{0.5, 1.5\\}$, with\n",
        "associated probabilities $P(X) = \\{0.5, 0.5\\}$. The expected value is\n",
        "then\n",
        "$\\frac{1}{2}(-\\mathrm{e}^{-\\rho\\cdot 0.5}-\\mathrm{e}^{-\\rho\\cdot 1.5})$.\n",
        "\n",
        "Below is the utility function defiend as the function `u_func(x, rho)`.\n",
        "It is convenient to also define the inverse of the utility function\n",
        "`x_func(u, rho)`. Assuming $\\rho = 15.0$, we can calculate excpected\n",
        "utilities and outcomes as follows:"
      ],
      "id": "06081d9f-f60c-4058-9d24-d9937c6a07cc"
    },
    {
      "cell_type": "code",
      "execution_count": 6,
      "metadata": {},
      "outputs": [
        {
          "output_type": "stream",
          "name": "stdout",
          "text": [
            "Expected utility: -0.04131904149702332\n",
            "Expected outcome: 1.0\n",
            "Utility of expected value: -0.006737946999085467"
          ]
        }
      ],
      "source": [
        "import numpy as np\n",
        "\n",
        "# Values and probabilities\n",
        "x_gamble = np.array([0.5, 1.5])  # Outcomes of the \n",
        "                                 # gamble\n",
        "p_gamble = np.array([0.5, 0.5])  # Probabilities\n",
        "RHO = 5.0\n",
        "\n",
        "#utility function\n",
        "def u_func(x, rho):\n",
        "    return -np.exp(-rho*np.array(x))\n",
        "\n",
        "# We will also need the inverse of the utility function:\n",
        "def x_func(u, rho): \n",
        "    return -np.log(-u)/rho\n",
        "\n",
        "# Expected utility\n",
        "expected_utility = np.sum(p_gamble * \n",
        "                                u_func(x_gamble, RHO))\n",
        "expected_outcome = np.sum(p_gamble * \n",
        "                                x_gamble)\n",
        "utility_exp_outcome = u_func(expected_outcome, RHO)\n",
        "\n",
        "print(f\"Expected utility: {expected_utility}\")\n",
        "print(f\"Expected outcome: {expected_outcome}\")\n",
        "print(f\"Utility of expected value: {utility_exp_outcome}\")"
      ],
      "id": "a57e4f94"
    },
    {
      "cell_type": "markdown",
      "metadata": {},
      "source": [
        "-   **Challenge 3**: Now, assume the utility function is\n",
        "    $f(x) = -\\mathrm{log}(\\rho x)$ (the natural logarithm). What is the\n",
        "    expected utility for different values of $x$?\n",
        "\n",
        "By comparing the utility of the expected value of 1.0 with the expected\n",
        "utility, you can veryfy that the utility of expected value is greater\n",
        "than the expected utility:\n",
        "\n",
        "<span id=\"eq-CARA_utility_expected_diff\">$$\n",
        "u(\\mathbb{E}X) = \\mathrm{e}^{\\rho\\cdot 1} > \\frac{1}{2}\\mathrm{e}^{\\rho\\cdot 0.5}+\\frac{1}{2}\\mathrm{e}^{\\rho\\cdot 1.5} = \\mathbb{E}u(X),\n",
        " \\qquad(7)$$</span>\n",
        "\n",
        "This example demonstrates that the utility of a certain outcome\n",
        "$(-\\mathrm{e}^{\\rho})$ is preferred over the expected utility of a\n",
        "gamble . This preference underscores risk aversion. The situation is\n",
        "illustrated in the following plot:"
      ],
      "id": "38ee6e56-80e3-4df3-abec-4b327f79b14f"
    },
    {
      "cell_type": "code",
      "execution_count": 7,
      "metadata": {},
      "outputs": [
        {
          "output_type": "display_data",
          "metadata": {},
          "data": {}
        }
      ],
      "source": [
        "import utility\n",
        "fig,ax = utility.plot(RHO, x_gamble, p_gamble, u_func, x_func)"
      ],
      "id": "cell-fig-graphical-risk-prem"
    },
    {
      "cell_type": "markdown",
      "metadata": {},
      "source": [
        "The code is a bit to long to be included here, but can be found in the\n",
        "local module `utility.py` in this repository.\n",
        "\n",
        "As we can see, the utility at expected wealth 1 is about -0.37, while\n",
        "the mean utility is lower at -0.41. You can verify that the line drawn\n",
        "between the utility of 0.5 and 1.5 intersects the mean utility of -0.41.\n",
        "\n",
        "Hence, with a concave uitlity function, a person will allways prefere a\n",
        "sure amount rather than a bet with the same expected payoff. In this\n",
        "case, the risk-averse investor will invariably prefer the certain\n",
        "payment of 1 over the gamble.\n",
        "\n",
        "The difference indicated by $\\rho$ in the figure, is the certainty\n",
        "equivalence. It is the amount that you would need to compensate the\n",
        "investor, in order to take the gamble. In a real market, this is the\n",
        "premium that investors demand to hold risky assets to safe bills. It is\n",
        "usually about 2-4% on average for the whole market.\n",
        "\n",
        "## A continous example\n",
        "\n",
        "Let us now calculate the expecte utility with more than three outcomes.\n",
        "We remember from the calculation of\n",
        "<a href=\"#fig-discrete-normal\" class=\"quarto-xref\">Figure 1</a> and\n",
        "calculation of descrete expectations in\n",
        "<a href=\"#eq-descrete_exp\" class=\"quarto-xref\">Equation 2</a> that a\n",
        "descrete version of the continous normal distribution can be calculated\n",
        "by taking the sum of probabilities and outcomes. When the outcomes are\n",
        "utilities, we sum over probabilites and utilitites for each $x$. If the\n",
        "utility is $u(x) = - \\mathrm{e}(-\\rho x)$ and $x$ and $p$ are calculated\n",
        "as above, a descrete approximation to the continous expected utility\n",
        "given $x$ is normally distributed, is"
      ],
      "id": "4dd39969-8a82-450d-bfc1-1e1292743a7e"
    },
    {
      "cell_type": "code",
      "execution_count": 8,
      "metadata": {},
      "outputs": [
        {
          "output_type": "stream",
          "name": "stdout",
          "text": [
            "Approximate expected utility:-132238.79351363966"
          ]
        }
      ],
      "source": [
        "print(f'Approximate expected utility:{np.sum(p*dx*u_func(x, RHO))}')"
      ],
      "id": "d8cc1d1e"
    },
    {
      "cell_type": "markdown",
      "metadata": {},
      "source": [
        "The above is a discrete approximation. How do we calculate the exact\n",
        "expected utilituy? We can find this by integration, see\n",
        "**?@eq-eq-cont_exp**. The normal density funciton is given by\n",
        "\n",
        "<span id=\"eq-normal_density\">$$\n",
        " \\frac{1}{\\sigma \\sqrt{2 \\rho}}e^{-\\frac{(x-\\mu)^2}{2 \\sigma}}\n",
        " \\qquad(8)$$</span>\n",
        "\n",
        "We can calculate the expected utility by taking the integral over the\n",
        "product of the density and the utility function. It turns out that if we\n",
        "do that, we obtain the analytical expected utility function:\n",
        "\n",
        "<span id=\"eq-exp_utility\">$$\n",
        "\\mathbb{E}[u(X)] = \\int_{-\\infty}^{\\infty} u(x) f(x)\\ dx = e^{-\\rho(\\mu-\\frac{1}{2}\\rho \\sigma^2)}\n",
        " \\qquad(9)$$</span>\n",
        "\n",
        "Let us now try to compare this with our apporxmated expeted utility\n",
        "above. If we have a standard normal distribution, so $\\sigma=1$ and\n",
        "$\\mu=0$. The risk aversion coefficient is $\\rho=5$. The exact and\n",
        "approximate expected utility are"
      ],
      "id": "a9573d7b-1dce-45b8-b23e-eb595150e762"
    },
    {
      "cell_type": "code",
      "execution_count": 9,
      "metadata": {},
      "outputs": [
        {
          "output_type": "stream",
          "name": "stdout",
          "text": [
            "Exact expected utility:-268337.2865208745\n",
            "Approximate expected utility:-132238.79351363966"
          ]
        }
      ],
      "source": [
        "print(f'Exact expected utility:{-np.exp(-RHO*(0-0.5*RHO*1.0))}')\n",
        "print(f'Approximate expected utility:{np.sum(p*dx*u_func(x, RHO))}')"
      ],
      "id": "5da97d5e"
    },
    {
      "cell_type": "markdown",
      "metadata": {},
      "source": [
        "As we can clearly see fromn above, the approximation is not good. The\n",
        "problem is that the discret normal probability function that we have\n",
        "used, is too coarse. We therefore need to try smaller intervals for the\n",
        "bars. Also, we want to calculate a wider range than +/-4. Let us try\n",
        "with bar witdht of 0.25 and a range +/- 8:"
      ],
      "id": "fae7b744-4bc0-4d4a-94d1-1872b0015f80"
    },
    {
      "cell_type": "code",
      "execution_count": 10,
      "metadata": {},
      "outputs": [
        {
          "output_type": "stream",
          "name": "stdout",
          "text": [
            "Exact expected utility:-268337.2865208745\n",
            "Approximate expected utility:-51028.22485443736"
          ]
        },
        {
          "output_type": "display_data",
          "metadata": {},
          "data": {}
        }
      ],
      "source": [
        "import utility\n",
        "import numpy as np\n",
        "\n",
        "dx = 0.25\n",
        "minmax = 8\n",
        "RHO = 5\n",
        "\n",
        "x = np.arange(-maxmin, maxmin + dx, dx)\n",
        "p = norm.pdf(x, 0, 1)\n",
        "\n",
        "fig, ax = utility.plot_descrete_and_normal(p, x, dx, maxmin)\n",
        "expected_utility = np.sum(p*dx*u_func(x, RHO))\n",
        "\n",
        "\n",
        "print(f'Exact expected utility:{-np.exp(-RHO*(0-0.5*RHO*1.0))}')\n",
        "print(f'Approximate expected utility:{np.sum(p*dx*u_func(x, RHO))}')"
      ],
      "id": "cell-fig-descrete-normal_fine"
    },
    {
      "cell_type": "markdown",
      "metadata": {},
      "source": [
        "We see now in\n",
        "<a href=\"#fig-descrete-normal_fine\" class=\"quarto-xref\">Figure 3</a>\n",
        "that the descrete distribution is quite similar to the continous one,\n",
        "and the approximation is also very close to the analytical exact\n",
        "expected utility.\n",
        "\n",
        "## The objective function\n",
        "\n",
        "The most important lesson here, is what is inside the brackets in\n",
        "equation(<a href=\"#eq-exp_utility\" class=\"quarto-xref\">Equation 9</a>).\n",
        "That expression determines in effect the utility, so let us rewrite it\n",
        "here:\n",
        "\n",
        "<span id=\"eq-mean-variance\">$$\n",
        "\\mu-\\frac{1}{2}\\rho \\sigma^2\n",
        " \\qquad(10)$$</span>\n",
        "\n",
        "This is therefore usually assumed to be the *objective function* of any\n",
        "investor.\n",
        "\n",
        "Hence, if returns are normally distributed, then investors would want to\n",
        "maximize the difference between the meand and the variance. This is true\n",
        "for any utility function if returns are normally distributed, but it is\n",
        "not in general true if returns are distributed differently.\n",
        "\n",
        "*Coding Challenges:*\n",
        "\n",
        "-   **Challenge 4**: Calculate the approximate expected utility with\n",
        "    some other parameters and a non standard normal distribution\n",
        "    ($\\sigma<>1$ and $\\mu<>1$, and see if the approxmate is still a good\n",
        "    approximation.\n",
        "\n",
        "# Optimal Portfolio with One Asset\n",
        "\n",
        "With the knowledge from\n",
        "<a href=\"#eq-mean-variance\" class=\"quarto-xref\">Equation 10</a>, we can\n",
        "actually calculate the optimal level of investment for one risky asset\n",
        "and a risk free allocation (Tobin 1958). We will later see that the\n",
        "method for doing that, is very similar to how we calcualte optmal\n",
        "portfolios with many different assets. For now, we will assume we only\n",
        "consider one asset, for example the market index. Say you buy shares for\n",
        "$w$ NOK. Then, we can use the method in the previoius section to find\n",
        "that the expected utility depends on\n",
        "\n",
        "<span id=\"eq-mean-variance2\">$$\n",
        "w\\mu-\\frac{w^2}{2}\\rho \\sigma^2\n",
        " \\qquad(11)$$</span>\n",
        "\n",
        "-   **Challenge 5**: Show that when multiplying a random variable with a\n",
        "    constant, the variance is the variance of the random variable times\n",
        "    the square of the constant.\n",
        "\n",
        "Taking the derivative of\n",
        "<a href=\"#eq-mean-variance2\" class=\"quarto-xref\">Equation 11</a>, which\n",
        "we assume is a concave and increasing function, we get\n",
        "\n",
        "<span id=\"eq-mean-variance-diff\">$$\n",
        "\\frac{d(w\\mu-\\frac{w^2}{2}\\rho \\sigma^2)}{dw} = \\mu-w\\rho \\sigma^2\n",
        " \\qquad(12)$$</span>\n",
        "\n",
        "Setting\n",
        "<a href=\"#eq-mean-variance-diff\" class=\"quarto-xref\">Equation 12</a>\n",
        "equal to zero and solving for $w$ gives\n",
        "\n",
        "<span id=\"eq-mean-variance-diff0\">$$\n",
        " w=\\frac{\\mu}{\\rho \\sigma^2}\n",
        " \\qquad(13)$$</span>\n",
        "\n",
        "From this, we conclude: 1. Higher risk aversion leads to lesser\n",
        "investment. 2. Greater expected returns encourage more investment. 3.\n",
        "Increased risk ($\\sigma^2$) discourages investment.\n",
        "\n",
        "In the next lecture, we will extend these principles to portfolios with\n",
        "multiple assets using matrix algebra.\n",
        "\n",
        "## Investor Types\n",
        "\n",
        "The shape of a utility function critically influences how individuals\n",
        "respond to risk. This subsection discusses three primary types of\n",
        "investors based on their risk preferences and the corresponding shapes\n",
        "of their utility functions.\n",
        "\n",
        "-   **Risk-Averse Investors:** These individuals have concave utility\n",
        "    functions, as in the example above, indicating a preference for\n",
        "    certain outcomes over uncertain ones with the same expected value.\n",
        "    Commonly modeled in financial theory, risk-averse investors\n",
        "    prioritize minimizing risk over maximizing returns. They tend to\n",
        "    diversify their portfolios across various asset classes to reduce\n",
        "    volatility. Even with the option of unlimited borrowing, they\n",
        "    typically opt to limit their investment exposure.\n",
        "\n",
        "-   **Risk-Neutral Investors:** For risk-neutral individuals, volatility\n",
        "    is inconsequential. Their utility functions are linear, reflecting\n",
        "    indifference to the level of risk associated with any investment.\n",
        "    They focus solely on maximizing expected returns and are likely to\n",
        "    invest in the asset with the highest expected payoff, irrespective\n",
        "    of the associated risks. This type of investor is willing to\n",
        "    allocate as much capital as possible to maximize potential gains.\n",
        "\n",
        "-   **Risk-Loving (Risk-Seeking) Investors:** Risk lovers have convex\n",
        "    utility functions and engage in behaviors akin to gambling, where\n",
        "    the expected return is typically negative. They derive satisfaction\n",
        "    from the risk itself and often pursue investments that offer the\n",
        "    highest possible returns, irrespective of the high levels of risk\n",
        "    involved. Such behavior is commonly seen in speculative ventures and\n",
        "    high-stakes gambling.\n",
        "\n",
        "Interestingly, it is not uncommon for individuals to display traits of\n",
        "both risk-averse and risk-seeking behaviors, a phenomenon that may seem\n",
        "paradoxical. For instance, the same person might purchase insurance (a\n",
        "risk-averse action) while also indulging in lottery gambling (a\n",
        "risk-seeking behavior). This can be explained by the utility function’s\n",
        "varying shape at different levels of wealth or stakes: a person might be\n",
        "risk-seeking with small, disposable amounts of money but risk-averse\n",
        "with larger, life-impacting sums. This dual nature influences how\n",
        "individuals choose to allocate their investments across different risk\n",
        "levels.\n",
        "\n",
        "## Assumptions in a Financial Market\n",
        "\n",
        "In financial theory, the assumption typically made about market\n",
        "participants is that they are predominantly risk averse. This assumption\n",
        "is crucial as portfolio optimization and related strategies largely rely\n",
        "on this characteristic. Risk-neutral or risk-loving investors, who\n",
        "either disregard risk or actively seek it, are considered exceptions\n",
        "rather than the norm in these models. This foundational assumption\n",
        "allows for the development of investment strategies that aim to maximize\n",
        "returns while minimizing risk, aligning with the preferences of\n",
        "risk-averse individuals.\n",
        "\n",
        "# The Risk Premium\n",
        "\n",
        "We understand that a risk-averse individual has a concave utility\n",
        "function, indicated by $u^{\\prime \\prime}(x) < 0$. But how do we\n",
        "quantify the degree of risk aversion?\n",
        "\n",
        "A direct approach might be to use the second derivative of the utility\n",
        "function, $u^{\\prime \\prime}(x)$, as a measure of risk aversion.\n",
        "However, this method has limitations, particularly at higher wealth\n",
        "levels. The issue arises because the curvature of the utility function\n",
        "tends to flatten as wealth increases, implying a decrease in relative\n",
        "risk aversion. If we solely relied on $u^{\\prime \\prime}(x)$ for\n",
        "measuring risk aversion, it might inaccurately suggest that wealthier\n",
        "individuals become nearly risk-neutral, due to the diminishing curvature\n",
        "in their utility functions. This phenomenon can be explained by the\n",
        "principle of decreasing marginal utility, which asserts that the\n",
        "incremental value or utility derived from each additional unit of wealth\n",
        "diminishes at higher wealth levels.\n",
        "\n",
        "## Absolute Risk Aversion (ARA)\n",
        "\n",
        "A more nuanced measure of risk aversion is defined through the Absolute\n",
        "Risk Aversion (ARA) (Pratt 1964; Arrow 1971) index, given by:\n",
        "\n",
        "<span id=\"eq-ARA_def\">$$\n",
        "\\rho_{ARA}(x) = -\\frac{u''(x)}{u'(x)}\n",
        " \\qquad(14)$$</span>\n",
        "\n",
        "This metric, also known as the Arrow-Pratt measure of risk aversion,\n",
        "remains robust against the non-linear scaling of wealth. As wealth\n",
        "increases, both the second derivative $u''(x)$ and the first derivative\n",
        "$u'(x)$ typically decrease, but their ratio, representing the ARA,\n",
        "adjusts proportionally. Thus, the measure of risk aversion does not\n",
        "necessarily approach zero as wealth grows, providing a more reliable\n",
        "indicator across different wealth levels.\n",
        "\n",
        "This measure is intrinsically linked to the concept of the risk premium.\n",
        "\n",
        "### Constant Absolute Risk Aversion (CARA)\n",
        "\n",
        "If ARA is constant, we refer to it as Constant Absolute Risk Aversion\n",
        "(CARA). The utility function aligning with CARA can be derived by\n",
        "solving the differential equation \\$ \\_{CARA} = -u’‘/u’ \\$, which gives:\n",
        "\n",
        "<span id=\"eq-CARA_def\">$$\n",
        "u(x) = -e^{-x \\cdot \\rho_{CARA}} \n",
        " \\qquad(15)$$</span>\n",
        "\n",
        "This is the exact same utility function as in the previoius examples.\n",
        "Although the CARA utility function is negative, it should not be\n",
        "interpreted as the individual deriving negative utility from wealth.\n",
        "Instead, it serves as a ranking mechanism among different wealth levels,\n",
        "ensuring \\$ u(x) \\> u(y) \\$ whenever \\$ x \\> y \\$, and \\$ u(x) \\> u(y)\n",
        "\\$ whenever \\$ var(x) \\> var(y)\\$ and $x=y$\n",
        "\n",
        "This utility specification simplifies calculations and is extensively\n",
        "used due to its mathematical tractability. It also implies that for a\n",
        "CARA utility function, the risk premium can be calculated exactly as\n",
        "$\\frac{1}{2} \\pi_{ARA} \\sigma^2$.\n",
        "\n",
        "## Relative Risk Aversion (RRA)\n",
        "\n",
        "Relative Risk Aversion (RRA) is more applicable when the risky decision\n",
        "involves a proportion of an individual’s wealth, rather than a fixed\n",
        "amount. This measure is particularly relevant when returns are expressed\n",
        "as a percentage of wealth, aligning more closely with practical\n",
        "financial scenarios. RRA is mathematically defined as:\n",
        "\n",
        "<span id=\"eq-RRA_def\">$$\n",
        "\\pi_{RRA}(x) = -x \\frac{u''(x)}{u'(x)}\n",
        " \\qquad(16)$$</span>\n",
        "\n",
        "The choice between using Absolute Risk Aversion (ARA) and RRA depends on\n",
        "the nature of the risk involved. RRA is preferred when analyzing bets\n",
        "that are proportional to wealth, while ARA is more suitable for\n",
        "fixed-level bets.\n",
        "\n",
        "The constant RRA utility, is a Cobb-Douglas-type function:\n",
        "\n",
        "<span id=\"eq-CRRA_def\">$$\n",
        "u_{CRRA}(x) = x^{1-\\pi_{CRRA}}\n",
        " \\qquad(17)$$</span>\n",
        "\n",
        "# The Normal Distribution and risk\n",
        "\n",
        "As mentioned, if the distribution of the returns is normal, the investor\n",
        "should allways maximize the difference between mean and variance.\n",
        "However, if the returns are distributed differently, that is not the\n",
        "case.\n",
        "\n",
        "It is well known that returns in financial markets are not normally\n",
        "distributed.For example, under the assumption that returns on the Oslo\n",
        "Stock Exchange follow a normal distribution, statistically extreme\n",
        "changes exceeding 10% would be exceedingly rare—estimated to occur once\n",
        "every 17,000 years. Yet, during the 2008 financial crisis, such\n",
        "anomalies were observed twice.\n",
        "\n",
        "This is called “fat tails”. It means that extreme events are much more\n",
        "likely in actual financial markets, than in the normal distribution\n",
        "world.\n",
        "\n",
        "However, in most cases, we can represent the empirical distribution with\n",
        "a “mixed normal distribution”. A mixed normal distribution, is a linear\n",
        "combination of normal distirbutino with different mean and varinaces."
      ],
      "id": "a9ac6323-6ad1-46f6-9f25-5becb90e7da6"
    },
    {
      "cell_type": "code",
      "execution_count": 11,
      "metadata": {},
      "outputs": [
        {
          "output_type": "display_data",
          "metadata": {},
          "data": {
            "image/png": "[encoded data removed]"
          }
        }
      ],
      "source": [
        "import numpy as np\n",
        "import matplotlib.pyplot as plt\n",
        "from scipy.stats import norm\n",
        "\n",
        "#Set range\n",
        "MAX_MIN = 0.1\n",
        "x_vals = np.linspace(-MAX_MIN, MAX_MIN, 1000)\n",
        "\n",
        "# Create the plot using fig and ax\n",
        "fig, ax = plt.subplots(figsize=(8, 5))\n",
        "\n",
        "#Calculate mean and std:\n",
        "rmean = 0\n",
        "rstd = 0.01\n",
        "\n",
        "# Normal distribution and mixed normal distribution:\n",
        "norm_dist    =     norm.pdf(x_vals, loc=rmean, scale=rstd)\n",
        "fat_tails = (0.8 * norm.pdf(x_vals, loc=rmean, scale=rstd*0.5) \n",
        "           + 0.2 * norm.pdf(x_vals, loc=rmean, scale=rstd*2))\n",
        "\n",
        "# Plotting\n",
        "ax.plot(x_vals, norm_dist, label=\"Normal Distribution\", color='blue')\n",
        "ax.plot(x_vals, fat_tails, label=\"Mixed Normal (Fat Tails)\", color='red')\n",
        "\n",
        "# Set title, labels, and grid and legend\n",
        "ax.set_title('Mixed Normal Distribution Illustrating Fat Tails')\n",
        "ax.set_xlabel('X')\n",
        "ax.set_ylabel('Probability Density')\n",
        "ax.legend()\n"
      ],
      "id": "200084d1"
    },
    {
      "cell_type": "markdown",
      "metadata": {},
      "source": [
        "*Coding Challenges:*\n",
        "\n",
        "-   **Challenge 6**: Use data from <https://titlon.uit.no> to create a\n",
        "    histogram, and overlay the normal distribution to see if the\n",
        "    empirical distribution has fat tails.\n",
        "-   **Challenge 7**: Try to fit a mixed normal distribution to the\n",
        "    empirical distribution.\n",
        "\n",
        "*Solution:*\n",
        "\n",
        "We start by fetching data for the OSEBX index from\n",
        "[titlon.uit.no](https://titlon.uit.no)"
      ],
      "id": "c6966fc8-17d1-4d3b-9f6d-b6f7d5095db9"
    },
    {
      "cell_type": "code",
      "execution_count": 12,
      "metadata": {},
      "outputs": [],
      "source": [
        "import pandas as pd\n",
        "#Query script for MySQL client\n",
        "import pymysql\n",
        "con = pymysql.connect(host='titlon.uit.no', \n",
        "                user      = \"user@uit.no\",\n",
        "                password  = \"pawswordfromtitlon\",\n",
        "                    database='OSE')  \n",
        "crsr=con.cursor()\n",
        "crsr.execute(\"\"\"\n",
        "    SELECT \n",
        "    `Date`, `OSEBXLinked`, `OBXLinked`, `OSEFXLinked`, `ID` \n",
        "    FROM `OSE`.`equityindex_linked` \n",
        "    WHERE year(`Date`) >= 1980\n",
        "    \n",
        "\"\"\")\n",
        "r=crsr.fetchall()\n",
        "df=pd.DataFrame(list(r), \n",
        "        columns=[i[0] for i in crsr.description])\n",
        "df\n",
        "#YOU NEED TO BE CONNECTED TO YOUR INSTITUTION VIA VPN, \n",
        "#OR BE AT THE INSTITUTION, FOR THIS CODE TO WORK\n",
        "\n",
        "pd.to_pickle(df,'data/index.df')\n",
        "df = None #in order to avoid memory problems"
      ],
      "id": "6b013390"
    },
    {
      "cell_type": "markdown",
      "metadata": {},
      "source": [
        "We can then calculate the return series and creating a histogram. The\n",
        "period mean and standard deviation is also calculated."
      ],
      "id": "6e0362ce-4d1b-4841-9f34-274d59b60025"
    },
    {
      "cell_type": "code",
      "execution_count": 13,
      "metadata": {},
      "outputs": [
        {
          "output_type": "display_data",
          "metadata": {},
          "data": {
            "image/png": "[encoded data removed]"
          }
        }
      ],
      "source": [
        "import pandas as pd\n",
        "# loading the data\n",
        "df = pd.read_pickle('data/index.df')\n",
        "\n",
        "# Creating the plot using fig and ax\n",
        "fig, ax = plt.subplots(figsize=(8, 5))\n",
        "\n",
        "#fixing Date, setting index and calculate returns\n",
        "df['Date'] = pd.to_datetime(df['Date'])\n",
        "df.set_index('Date', inplace=True)\n",
        "df['Returns'] = df['OSEBXLinked'].pct_change()\n",
        "\n",
        "#Calculate mean and std:\n",
        "rmean = np.mean(df['Returns'])\n",
        "rstd = np.std(df['Returns'])\n",
        "\n",
        "# Define the histogram intervals (dx = 0.01)\n",
        "dx = 0.002\n",
        "bins = int((0.2 - (-0.2)) / dx)\n",
        "\n",
        "# Create the plot\n",
        "ax.hist(df['Returns'].dropna(), bins=bins, \n",
        "        range=(-0.2, 0.2), density=True, \n",
        "        edgecolor='k', alpha=0.7)\n",
        "df = None\n",
        "\n",
        "# Set x-axis limits\n",
        "ax.set_xlim(-MAX_MIN, MAX_MIN)"
      ],
      "id": "1f6470e9"
    },
    {
      "cell_type": "markdown",
      "metadata": {},
      "source": [
        "The normal distribution and the mixed normal is now calculated, based on\n",
        "the estimated mean and standard deviation, and some assumptions on how\n",
        "the mixed normal distributions deviate form the single normal. In this\n",
        "example, it is just done by trail and error, which lead to a weight of\n",
        "80% on a normal distribution with 40% of the estimated volatility, and\n",
        "20% on a normal distribution with 200% of the estimated volatility.\n",
        "\n",
        "This is then addd to the existing chart:"
      ],
      "id": "921a0744-0e0f-4750-a812-cf0a8a55ae38"
    },
    {
      "cell_type": "code",
      "execution_count": 14,
      "metadata": {},
      "outputs": [
        {
          "output_type": "display_data",
          "metadata": {},
          "data": {
            "image/png": "[encoded data removed]"
          }
        }
      ],
      "source": [
        "import numpy as np\n",
        "import matplotlib.pyplot as plt\n",
        "from scipy.stats import norm\n",
        "\n",
        "#Defining the range of x-values:\n",
        "MAX_MIN = 0.1\n",
        "x_vals = np.linspace(-MAX_MIN, MAX_MIN, 1000)\n",
        "\n",
        "# Calculate normal dist and the mixed normal dist:\n",
        "norm_dist    =     norm.pdf(x_vals, loc=rmean, scale=rstd)\n",
        "fat_tails = (0.8 * norm.pdf(x_vals, loc=rmean, scale=rstd*0.4) + \n",
        "             0.2 * norm.pdf(x_vals, loc=rmean, scale=rstd*2))\n",
        "\n",
        "# Plotting normal dist and mixed normal dist\n",
        "ax.plot(x_vals, norm_dist, \n",
        "            label=\"Normal Distribution\", color='blue')\n",
        "ax.plot(x_vals, fat_tails, \n",
        "            label=\"Mixed Normal (Fat Tails)\", color='red')\n",
        "\n",
        "# Set title, labels and legend\n",
        "ax.set_title('Mixed Normal Distribution' \n",
        "                'Illustrating Fat Tails')\n",
        "ax.set_xlabel('X')\n",
        "ax.set_ylabel('Probability Density')\n",
        "ax.legend()\n",
        "fig"
      ],
      "id": "d9af28fe"
    },
    {
      "cell_type": "markdown",
      "metadata": {},
      "source": [
        "# Literature\n",
        "\n",
        "Arrow, Kenneth J. 1971. *Essays in the Theory of Risk-Bearing*. Chicago:\n",
        "Markham Publishing Company.\n",
        "\n",
        "Euler, Leonhard. 1748. *Introductio in Analysin Infinitorum*. Lausanne:\n",
        "Marc Michel Bousquet.\n",
        "\n",
        "Gauss, Carl Friedrich. 1809. *Theoria Motus Corporum Coelestium in\n",
        "Sectionibus Conicis Solem Ambientium*. Hamburg: Perthes; Besser.\n",
        "\n",
        "Leibniz, Gottfried Wilhelm. 1969. *Leibniz: The Early Mathematical\n",
        "Manuscripts*. Edited by Joseph E. Hofmann. New York: Dover Publications.\n",
        "\n",
        "Neumann, John von, and Oskar Morgenstern. 1947. *Theory of Games and\n",
        "Economic Behavior*. 2nd ed. Princeton, NJ: Princeton University Press.\n",
        "\n",
        "Pratt, John W. 1964. “Risk Aversion in the Small and in the Large.”\n",
        "*Econometrica* 32 (1/2): 122–36. <https://doi.org/10.2307/1913738>.\n",
        "\n",
        "Tobin, James. 1958. “Liquidity Preference as Behavior Towards Risk.”\n",
        "*The Review of Economic Studies* 25 (2): 65–86.\n",
        "<https://doi.org/10.2307/2296205>."
      ],
      "id": "006c8464-c7d7-4b21-8534-febfce70dfb9"
    }
  ],
  "nbformat": 4,
  "nbformat_minor": 5,
  "metadata": {
    "kernelspec": {
      "name": "python3",
      "display_name": "Python 3 (ipykernel)",
      "language": "python",
      "path": "C:"
    },
    "language_info": {
      "name": "python",
      "codemirror_mode": {
        "name": "ipython",
        "version": "3"
      },
      "file_extension": ".py",
      "mimetype": "text/x-python",
      "nbconvert_exporter": "python",
      "pygments_lexer": "ipython3",
      "version": "3.13.5"
    }
  }
}